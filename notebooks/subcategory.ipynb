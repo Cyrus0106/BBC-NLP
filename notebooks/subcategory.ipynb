{
 "cells": [
  {
   "cell_type": "markdown",
   "id": "6d743f1e",
   "metadata": {},
   "source": [
    "## Subcategory Extraction\n",
    "So there are a couple of methods i can think of to extract subcategories fom text:\n",
    "#### Key word Dictionaries\n",
    "- I will try to define sub categories by associating them with possible keywords and when an article has a large amount of keywords belonging to that subcategory they get assigned to the subcategory.\n",
    "- Will be easy to explain and transparent but will also have glaring issues like missing synonys and unable to handle context\n",
    "#### TF-IDF + Clustering\n",
    "- I could represent the document with TF-IDF then run a clustering algorithm within each main category\n",
    "- Inspect the clusters and label them as subcategories\n",
    "- This would be more automatic than the key word dictionary\n",
    "- the cluster might not be clean and will be harder to explain\n",
    "#### Topic Modeling\n",
    "- Use Latent Dirichlet Allocation (LDA) on each category to uncover hidden topics Or use BERTopic.\n",
    "- With this each topic becomes a potential subcategory.\n",
    "- This approach will give me more flexible and discovers patterns i might not think of however it can produce noisy or overlapping topics needing interpretation.\n",
    "#### Supervised ML\n",
    "- This is another approach but this would require me to label some of the data with subcategories and then train a classifier to predict subcategories this will probably be the most well rounded/best approach but this depends on me labeling the data."
   ]
  },
  {
   "cell_type": "markdown",
   "id": "8bb37446",
   "metadata": {},
   "source": [
    "#### Im choosing the topic modeling solution due to its advantages"
   ]
  },
  {
   "cell_type": "markdown",
   "id": "c5714aba",
   "metadata": {},
   "source": [
    "import preprocessing libarary"
   ]
  },
  {
   "cell_type": "code",
   "execution_count": 27,
   "id": "331821de",
   "metadata": {},
   "outputs": [],
   "source": [
    "import spacy\n",
    "import pandas as pd\n",
    "from transformers import T5ForConditionalGeneration, T5Tokenizer\n",
    "import torch"
   ]
  },
  {
   "cell_type": "code",
   "execution_count": 28,
   "id": "d17d35ba",
   "metadata": {},
   "outputs": [
    {
     "data": {
      "text/plain": [
       "<torch._C.Generator at 0x252c5850fd0>"
      ]
     },
     "execution_count": 28,
     "metadata": {},
     "output_type": "execute_result"
    }
   ],
   "source": [
    "# imort spacy\n",
    "nlp = spacy.load(\"en_core_web_sm\")\n",
    "\n",
    "# set seed for reproducibility\n",
    "torch.manual_seed(42)"
   ]
  },
  {
   "cell_type": "markdown",
   "id": "d118a46d",
   "metadata": {},
   "source": [
    "Preprocessing Function"
   ]
  },
  {
   "cell_type": "code",
   "execution_count": 29,
   "id": "3ade1929",
   "metadata": {},
   "outputs": [],
   "source": [
    "def preprocess_text(text):\n",
    "    doc = nlp(text.lower()) # tokenize and lemmatize\n",
    "    tokens = [token.lemma_ for token in doc if token.is_alpha and not token.is_stop and token.pos_ in [\"NOUN\",\"PROPN\",\"VERB\",\"ADJ\"]] # remove stop words and punctuation\n",
    "    return ' '.join(tokens) # join tokens into a string"
   ]
  },
  {
   "cell_type": "markdown",
   "id": "18eef5cc",
   "metadata": {},
   "source": [
    "import the text data"
   ]
  },
  {
   "cell_type": "code",
   "execution_count": 30,
   "id": "3ade74f3",
   "metadata": {},
   "outputs": [],
   "source": [
    "df = pd.read_csv(\"../data/raw_bbc.csv\")"
   ]
  },
  {
   "cell_type": "code",
   "execution_count": 31,
   "id": "364e2416",
   "metadata": {},
   "outputs": [
    {
     "data": {
      "application/vnd.microsoft.datawrangler.viewer.v0+json": {
       "columns": [
        {
         "name": "index",
         "rawType": "int64",
         "type": "integer"
        },
        {
         "name": "Category",
         "rawType": "object",
         "type": "string"
        },
        {
         "name": "Text",
         "rawType": "object",
         "type": "string"
        },
        {
         "name": "Filename",
         "rawType": "object",
         "type": "string"
        },
        {
         "name": "Subcategory",
         "rawType": "float64",
         "type": "float"
        },
        {
         "name": "Cleaned Text",
         "rawType": "object",
         "type": "string"
        }
       ],
       "ref": "249d6294-c877-47da-9ff5-0e7ce1c86267",
       "rows": [
        [
         "780",
         "entertainment",
         "German music in a 'zombie' state\n\nThe German music business - the third largest in the world - is \"in the state of a zombie\" because it has failed to respond to the challenge posed by downloading and piracy, a leading industry figure has said.\n\nTim Renner, the head of Universal Music Germany until last year, told BBC World Service's The Music Biz programme that the country's music industry was now struggling to survive. Renner warned that unless the industry accepted \"new realties\" - such as downloading - its decline could become irreversible. \"The problem the music industry has got is that they aren't willing to accept that the classic way of doing business is over and out,\" he stated. \"So the music industry in its current form over here is pretty much in the state of a zombie.\"\n\nThe music market in Germany peaked in 1997, with sales of 2.6bn euros (£1.8bn). Since 2000, sales have plummeted to just 1.6bn euros (£1.1bn) in 2003. In the space of one year - between 2002 and 2003 - CD album sales fell by 13.8%. But a study by the Society for Consumer Research found that at the same time, more than twice as many recordable CDs had music recorded on them than CD albums were sold. Mr Renner pointed out that, because profit comes mainly from the longevity of a good-selling record, this was particularly damaging.\n\n\"You need time,\" he added. However, Peter Zombic, the managing director of the International Federation of Phonographic Industry in Germany, said he did not feel the situation was as \"dramatic\" as Mr Renner believed. \"It's quite true that we have severe problems in Germany - but that's true in other parts of the world and in most developed markets too,\" he argued. \"We have a severe problem with piracy, especially internet piracy, and we also have a severe problem of private copying. \"I don't agree that the music industry lost control over the music market - in fact, especially in regard to Germany talent, the market is quite successful.\" He did, however, admit that copyright owners have \"partly lost control of their copyright\", due to piracy and copying.\n\nBut he refuted suggestions that the industry had been too slow to respond to digital downloading. \"We were the first to implement a download service - back in 1997,\" he argued. \"At that time it was not successful, because of the advent of piracy - it was the Napster time, when P2P services became popular. \"It still is quite difficult for the music industry to compete with a price that is zero as far as the illegal product is concerned.\" Mr Zombic also called for a change to the perception in Germany that private copying of music is not a problem. German law does allow people to make copies of CDs for their family and close friends, without fear of breaking copyright. Mr Zombic said that this legal framework was a \"huge problem\". \"There is a widespread attitude that private copying is a hobby, it's nice, it's fun,\" he added. \"We try to make clear it's not nice and it's not fun - it's endangering the creativity in our country.\"\n",
         "data/entertainment/271.txt",
         null,
         "german music zombie state german music business large world state zombie fail respond challenge pose download piracy lead industry figure say tim renner head universal music germany year tell bbc world service music biz programme country music industry struggle survive renner warn industry accept new realty download decline irreversible problem music industry get willing accept classic way business state music industry current form state zombie music market germany peak sale euro sale plummet euro space year cd album sale fall study society consumer research find time recordable cd music record cd album sell mr renner point profit come longevity good selling record damaging need time add peter zombic manage director international federation phonographic industry germany say feel situation dramatic mr renner believe true severe problem germany true part world developed market argue severe problem piracy internet piracy severe problem private copying agree music industry lose control music market fact regard germany talent market successful admit copyright owner lose control copyright piracy copying refute suggestion industry slow respond digital downloading implement download service argue time successful advent piracy napster time service popular difficult music industry compete price illegal product concern mr zombic call change perception germany private copying music problem german law allow people copy cd family close friend fear break copyright mr zombic say legal framework huge problem widespread attitude private copying hobby nice fun add try clear nice fun endanger creativity country"
        ],
        [
         "537",
         "entertainment",
         "Potter director signs Warner deal\n\nHarry Potter director Alfonso Cuaron has signed a three-year deal with Hollywood studio Warner Brothers, according to Variety trade magazine.\n\nThe Mexican film-maker, who directed Harry Potter and the Prisoner of Azkaban, will produce mainstream movies and smaller Spanish-language films. \"We had a wonderful experience with Alfonso on Harry Potter,\" Warner producer Jeff Robinov told Variety. Cuaron's other films include Mexican movie Y Tu Mama Tambien.\n\nThe 2001 rites-of-passage drama about two teenage boys who embark on a relationship with an older woman, brought Cuaron international attention - and box office glory.\n\nIt also won him and his brother Carlos, with whom he co-wrote the screenplay, an Oscar nomination for best original screenplay. Warner will distribute Cuaron's films in several languages outside the US. \"This deal will give us the opportunity to collaborate with Alfonso on movies that make the most of his artistry and vision, and continue to offer him the mainstream worldwide audiences that our studio provides so successfully,\" said Mr Robinov.\n\nHis first film for Warner Brothers was 1995's family fantasy movie A Little Princess. Based on the novel by Frances Hodgson Burnett, A Little Princess tells the story of a young girl who is sent to live in a New York boarding school when her widowed father enlists for war. After the erotic nature of Y Tu Mama Tambien, Cuaron was a surprise choice to direct the third Harry Potter film but his dark interpretation was received well by the public and critics alike.\n",
         "data/entertainment/028.txt",
         null,
         "potter director sign warner deal harry potter director alfonso cuaron sign year deal hollywood studio warner brothers accord variety trade magazine mexican film maker direct harry potter prisoner azkaban produce mainstream movie small spanish language film wonderful experience alfonso harry potter warner producer jeff robinov tell variety cuaron film include mexican movie y tu mama tambien rite passage drama teenage boy embark relationship old woman bring cuaron international attention box office glory win brother carlos co write screenplay oscar nomination good original screenplay warner distribute cuaron film language deal opportunity collaborate alfonso movie artistry vision continue offer mainstream worldwide audience studio provide say mr robinov film warner brother family fantasy movie little princess base novel frances hodgson burnett little princess tell story young girl send live new york boarding school widow father enlist war erotic nature y tu mama tambien cuaron surprise choice direct harry potter film dark interpretation receive public critic"
        ],
        [
         "1208",
         "politics",
         "Parties warned over 'grey vote'\n\nPolitical parties cannot afford to take older UK voters for granted in the coming election, says Age Concern.\n\nA survey for the charity suggests 69% of over-55s say they always vote in a general election compared with just 17% of 18 to 24 year olds. Charity boss Gordon Lishman said if a \"decisive blow\" was struck at the election it would be by older voters who could be relied on to turn out. A total of 3,028 adults aged 18 or over were interviewed for the study. Mr Lishman urged the next government to boost state pension.\n\nHe also called for measures to combat ageism and build effective public services to \"support us all in an ageing society\". \"Older people want to see manifesto commitments that will make a difference to their lives,\" Mr Lishman said. \"Political parties must wake up to the fact that unless they address the demands and concerns of older people they will not keep or attract their vote.\" In the survey carried out by ICM Research, 14% of people aged between 18 and 34 said they never voted in general elections. Among the over-65s, 70% said they would be certain to vote in an immediate election, compared with 39% of people under 55. Age Concern says the over-55s are \"united around\" key areas of policy they want the government to focus on. For 57%, pensions and the NHS were key issues, while the economy was important for a third, and tax was a crucial area for 25%.\n\nThe report was welcomed by Conservative shadow pensions secretary David Willetts. \"The pensioners' voice must certainly be heard in the next election as they have never fitted into Blair's cool Britannia,\" he said. \"Labour's continued refusal to admit the true extent of the pensions crisis will be one of the monumental failures of this government.\" He pointed to Tory plans to increase the basic state pension to reduce means testing, strengthen company pensions and encourage savings. A Liberal Democrat spokesman said the party took the issues raised in the report very seriously. He highlighted the party's promises to raise the basic state pension, provide free long-term care for the elderly and replace council tax, seen as a particular problem for pensioners on fixed incomes. Labour has said it wants to use savings reforms to Incapacity Benefit to improve the basic state pension and has set up a review of the council tax system.\n",
         "data/politics/313.txt",
         null,
         "party warn grey vote political party afford old uk voter grant come election say age concern survey charity suggest vote general election compare year old charity boss gordon lishman say decisive blow strike election old voter rely turn total adult age interview study mr lishman urge government boost state pension call measure combat ageism build effective public service support age society old people want manifesto commitment difference life mr lishman say political party wake fact address demand concern old people attract vote survey carry icm research people age say vote general election say certain vote immediate election compare people age concern say unite key area policy want government focus pension nhs key issue economy important tax crucial area report welcome conservative shadow pension secretary david willetts pensioner voice hear election fit blair cool britannia say labour continued refusal admit true extent pension crisis monumental failure government point tory plan increase basic state pension reduce mean testing strengthen company pension encourage saving liberal democrat spokesman say party take issue raise report highlight party promise raise basic state pension provide free long term care elderly replace council tax see particular problem pensioner fix income labour say want use savings reform incapacity benefit improve basic state pension set review council tax system"
        ],
        [
         "17",
         "business",
         "India's rupee hits five-year high\n\nIndia's rupee has hit a five-year high after Standard & Poor's (S&P) raised the country's foreign currency rating.\n\nThe rupee climbed to 43.305 per US dollar on Thursday, up from a close of 43.41. The currency has gained almost 1% in the past three sessions. S&P, which rates borrowers' creditworthiness, lifted India's rating by one notch to 'BB+'. With Indian assets now seen as less of a gamble, more cash is expected to flow into its markets, buoying the rupee.\n\n\"The upgrade is positive and basically people will use it as an excuse to come back to India,\" said Bhanu Baweja, a strategist at UBS. \"Money has moved out from India in the first two or three weeks of January into other markets like Korea and Thailand and this upgrade should lead to a reversal.\" India's foreign currency rating is now one notch below investment grade, which starts at 'BBB-'. The increase has put it on the same level as Romania, Egypt and El Salvador, and one level below Russia.\n",
         "data/business/018.txt",
         null,
         "india rupee hit year high india rupee hit year high standard poor raise country foreign currency rating rupee climb dollar thursday close currency gain past session rate borrower creditworthiness lift india rating notch indian asset see gamble cash expect flow market buoy rupee upgrade positive people use excuse come india say bhanu baweja strategist ubs money move india week january market korea thailand upgrade lead reversal india foreign currency rating notch investment grade start increase level romania egypt el salvador level russia"
        ],
        [
         "1614",
         "sport",
         "Italy 17-28 Ireland\n\nTwo moments of magic from Brian O'Driscoll guided Ireland to a workmanlike victory against Italy.\n\nA pair of classic outside breaks from the Ireland captain set up tries for Geordan Murphy and Peter Stringer. Italy led 9-8 early in the second half but Stringer's try gave Ireland a lead they never lost. The hosts cut the gap to 18-12 with 10 minutes left and nearly scored through Ludovico Nitoglia, but Denis Hickie's try ensured an Irish victory. Italy came flying out of the blocks and took the lead through a Luciano Orquera penalty after seven minutes.\n\nIt could have been better for the hosts but the fly-half missed two kickable penalties and Ireland drew level with a Ronan O'Gara penalty midway through the first half. The Italians were driving at the heart of the Irish defence and, for the first quarter, the Irish pack struggled to secure any ball for their talented backs.\n\nWhen they finally did, just before the half-hour mark, O'Driscoll promptly created a sparkling try for Murphy. The Ireland captain ran a dummy scissors and made a magical outside break before drawing the full-back and putting the diving Murphy in at the corner. O'Gara missed the twice-taken conversion and the visitors found themselves trailing once again. Roland de Marigny took over the kicking duties for Italy from the hapless Orquera, and he landed a penalty either side of the break to edge Italy into a 9-8 lead.\n\nThe only Ireland player offering a real threat was O'Driscoll, and it was his break that set up the second try for the visitors. Shane Horgan threw an overhead pass as he was about to be forced into touch and Stringer scooted over, with O'Gara landing the tricky conversion. A penalty apiece saw Ireland leading 18-12 as the game entered the final quarter, but they were lucky to survive when Italy launched a series of attacks. Winger Nitoglia dropped the ball as he reached for the line and Italy nearly rumbled over from a driving maul.\n\nAn O'Gara penalty put Ireland more than a converted try ahead and they made the game safe when Hickie latched onto an inside pass from Murphy and crossed for a converted try. O'Driscoll limped off late on, joining centre partner Gordon D'Arcy on the sidelines, and the final word went to Italy. Prop Martin Castrogiovanni powered over for a try which was fitting reward for an Italian pack which had kept the Irish under pressure throughout.\n\nDe Marigny; Mi Bergamasco, Canale, Masi, Nitoglia; Orquera, Troncon; Lo Cicero, Ongaro, Castrogiovanni; Dellape, Bortolami; Persico, Ma Bergamasco, Parisse.\n\nPerugini, Intoppa, Del Fava, Dal Maso, Griffen, Pozzebon, Robertson.\n\nMurphy, Horgan, O'Driscoll, D'Arcy, Hickie, O'Gara, Stringer, Corrigan, Byrne, Hayes, O'Kelly, O'Connell, S Easterby, Leamy, Foley.\n\nSheahan, Horan, O'Callaghan, Miller, G Easterby, Humphreys, Dempsey.\n\nP O'Brien (New Zealand)\n",
         "data/sport/302.txt",
         null,
         "italy ireland moment magic brian guided ireland workmanlike victory italy pair classic outside break ireland captain set try geordan murphy peter stringer italy lead second half stringer try give ireland lead lose host cut gap minute leave score ludovico nitoglia denis hickie try ensure irish victory italy fly block take lead luciano orquera penalty minute well host fly half miss kickable penalty ireland draw level ronan penalty half italians drive heart irish defence quarter irish pack struggle secure ball talented back half hour mark create sparkling try murphy ireland captain run dummy scissor magical outside break draw put diving murphy corner miss take conversion visitor find trail roland de marigny take kicking duty italy hapless orquera land penalty break edge italy lead ireland player offer real threat break set second try visitor shane horgan throw overhead pass force touch stringer scoot land tricky conversion penalty see ireland lead game enter final quarter lucky survive italy launch series attack winger nitoglia drop ball reach line italy rumble drive maul penalty ireland converted try game safe hickie latch inside pass murphy cross converted try limp join centre partner gordon sideline final word go italy prop martin castrogiovanni power try fitting reward italian pack keep irish pressure marigny mi bergamasco canale masi nitoglia orquera troncon lo cicero ongaro castrogiovanni dellape bortolami persico ma bergamasco parisse perugini intoppa del fava dal maso griffen pozzebon robertson murphy horgan hickie stringer corrigan byrne haye s easterby leamy foley sheahan horan miller g easterby humphrey dempsey p new zealand"
        ]
       ],
       "shape": {
        "columns": 5,
        "rows": 5
       }
      },
      "text/html": [
       "<div>\n",
       "<style scoped>\n",
       "    .dataframe tbody tr th:only-of-type {\n",
       "        vertical-align: middle;\n",
       "    }\n",
       "\n",
       "    .dataframe tbody tr th {\n",
       "        vertical-align: top;\n",
       "    }\n",
       "\n",
       "    .dataframe thead th {\n",
       "        text-align: right;\n",
       "    }\n",
       "</style>\n",
       "<table border=\"1\" class=\"dataframe\">\n",
       "  <thead>\n",
       "    <tr style=\"text-align: right;\">\n",
       "      <th></th>\n",
       "      <th>Category</th>\n",
       "      <th>Text</th>\n",
       "      <th>Filename</th>\n",
       "      <th>Subcategory</th>\n",
       "      <th>Cleaned Text</th>\n",
       "    </tr>\n",
       "  </thead>\n",
       "  <tbody>\n",
       "    <tr>\n",
       "      <th>780</th>\n",
       "      <td>entertainment</td>\n",
       "      <td>German music in a 'zombie' state\\n\\nThe German...</td>\n",
       "      <td>data/entertainment/271.txt</td>\n",
       "      <td>NaN</td>\n",
       "      <td>german music zombie state german music busines...</td>\n",
       "    </tr>\n",
       "    <tr>\n",
       "      <th>537</th>\n",
       "      <td>entertainment</td>\n",
       "      <td>Potter director signs Warner deal\\n\\nHarry Pot...</td>\n",
       "      <td>data/entertainment/028.txt</td>\n",
       "      <td>NaN</td>\n",
       "      <td>potter director sign warner deal harry potter ...</td>\n",
       "    </tr>\n",
       "    <tr>\n",
       "      <th>1208</th>\n",
       "      <td>politics</td>\n",
       "      <td>Parties warned over 'grey vote'\\n\\nPolitical p...</td>\n",
       "      <td>data/politics/313.txt</td>\n",
       "      <td>NaN</td>\n",
       "      <td>party warn grey vote political party afford ol...</td>\n",
       "    </tr>\n",
       "    <tr>\n",
       "      <th>17</th>\n",
       "      <td>business</td>\n",
       "      <td>India's rupee hits five-year high\\n\\nIndia's r...</td>\n",
       "      <td>data/business/018.txt</td>\n",
       "      <td>NaN</td>\n",
       "      <td>india rupee hit year high india rupee hit year...</td>\n",
       "    </tr>\n",
       "    <tr>\n",
       "      <th>1614</th>\n",
       "      <td>sport</td>\n",
       "      <td>Italy 17-28 Ireland\\n\\nTwo moments of magic fr...</td>\n",
       "      <td>data/sport/302.txt</td>\n",
       "      <td>NaN</td>\n",
       "      <td>italy ireland moment magic brian guided irelan...</td>\n",
       "    </tr>\n",
       "  </tbody>\n",
       "</table>\n",
       "</div>"
      ],
      "text/plain": [
       "           Category                                               Text  \\\n",
       "780   entertainment  German music in a 'zombie' state\\n\\nThe German...   \n",
       "537   entertainment  Potter director signs Warner deal\\n\\nHarry Pot...   \n",
       "1208       politics  Parties warned over 'grey vote'\\n\\nPolitical p...   \n",
       "17         business  India's rupee hits five-year high\\n\\nIndia's r...   \n",
       "1614          sport  Italy 17-28 Ireland\\n\\nTwo moments of magic fr...   \n",
       "\n",
       "                        Filename  Subcategory  \\\n",
       "780   data/entertainment/271.txt          NaN   \n",
       "537   data/entertainment/028.txt          NaN   \n",
       "1208       data/politics/313.txt          NaN   \n",
       "17         data/business/018.txt          NaN   \n",
       "1614          data/sport/302.txt          NaN   \n",
       "\n",
       "                                           Cleaned Text  \n",
       "780   german music zombie state german music busines...  \n",
       "537   potter director sign warner deal harry potter ...  \n",
       "1208  party warn grey vote political party afford ol...  \n",
       "17    india rupee hit year high india rupee hit year...  \n",
       "1614  italy ireland moment magic brian guided irelan...  "
      ]
     },
     "execution_count": 31,
     "metadata": {},
     "output_type": "execute_result"
    }
   ],
   "source": [
    "# apply preprocessing to dataframe\n",
    "df[\"Cleaned Text\"] = df[\"Text\"].apply(preprocess_text)\n",
    "# peak 5 random rows\n",
    "df.sample(5)"
   ]
  },
  {
   "cell_type": "code",
   "execution_count": 32,
   "id": "fd391308",
   "metadata": {},
   "outputs": [],
   "source": [
    "from transformers import AutoModelForSeq2SeqLM, AutoTokenizer"
   ]
  },
  {
   "cell_type": "markdown",
   "id": "8200506c",
   "metadata": {},
   "source": [
    "Prepare Functions"
   ]
  },
  {
   "cell_type": "code",
   "execution_count": null,
   "id": "0547a061",
   "metadata": {},
   "outputs": [],
   "source": [
    "docs = df[\"Cleaned Text\"].tolist()\n",
    "\n",
    "def setup_llm_model():\n",
    "    model_name = \"google/flan-t5-base\"  # Fixed: removed the comma\n",
    "    device = torch.device(\"cuda\" if torch.cuda.is_available() else \"cpu\")\n",
    "    tokenizer = AutoTokenizer.from_pretrained(model_name)\n",
    "    model = AutoModelForSeq2SeqLM.from_pretrained(model_name).to(device)  # Changed class name\n",
    "    return model, tokenizer\n",
    "\n",
    "model, tokenizer = setup_llm_model()\n",
    "\n",
    "def generate_subcategory(text, category, model, tokenizer, max_length=20):\n",
    "    prompt = f\"\"\"\n",
    "    Act as a news editor. Generate a concise subcategory label (2-3 words) for this news article in the {category} and try not to be too generic.\n",
    "    Article: {text} \n",
    "    Only output the subcategory label.\n",
    "    \"\"\"\n",
    "    inputs = tokenizer(prompt, return_tensors=\"pt\", truncation=True, max_length=512)\n",
    "    # Move inputs to the same device as model\n",
    "    inputs = {k: v.to(model.device) for k, v in inputs.items()}\n",
    "    outputs = model.generate(\n",
    "        **inputs,\n",
    "        max_length=max_length,\n",
    "        min_length=2,\n",
    "        temperature=0.7,\n",
    "        num_return_sequences=1\n",
    "    )\n",
    "    return tokenizer.decode(outputs[0], skip_special_tokens=True).strip()\n",
    "\n",
    "def run_llm_subcategory_model(df, category, model, tokenizer, batch_size=50):\n",
    "    print(f\"\\nGenerating subcategories for {category}...\")\n",
    "\n",
    "    mask = df[\"Category\"] == category\n",
    "    texts = df.loc[mask, \"Cleaned Text\"].tolist()\n",
    "\n",
    "    subcategories = []\n",
    "    for i in range(0, len(texts), batch_size):\n",
    "        batch = texts[i:i+batch_size]\n",
    "        print(f\"Processing {i} to {i+len(batch)}\")\n",
    "\n",
    "        for text in batch:\n",
    "            subcat = generate_subcategory(text, category, model, tokenizer)\n",
    "            subcategories.append(subcat)\n",
    "\n",
    "    df.loc[mask, \"Subcategory\"] = subcategories\n",
    "    return df\n",
    "\n"
   ]
  },
  {
   "cell_type": "code",
   "execution_count": null,
   "id": "167e27e3",
   "metadata": {},
   "outputs": [],
   "source": [
    "\n",
    "model, tokenizer = setup_llm_model()\n",
    "\n",
    "def generate_subcategory(text, category, model, tokenizer, max_length=20):\n",
    "    prompt = f\"\"\"\n",
    "    Act as a news editor. Generate a concise subcategory label (2-3 words) for this news article in the {category} and try not to be too generic.\n",
    "    Article: {text} \n",
    "    Only output the subcategory label.\n",
    "    \"\"\"\n",
    "    inputs = tokenizer(prompt, return_tensors=\"pt\", truncation=True, max_length=512)\n",
    "    # Move inputs to the same device as model\n",
    "    inputs = {k: v.to(model.device) for k, v in inputs.items()}\n",
    "    outputs = model.generate(\n",
    "        **inputs,\n",
    "        max_length=max_length,\n",
    "        min_length=2,\n",
    "        temperature=0.7,\n",
    "        num_return_sequences=1\n",
    "    )\n",
    "    return tokenizer.decode(outputs[0], skip_special_tokens=True).strip()\n",
    "\n",
    "def run_llm_subcategory_model(df, category, model, tokenizer, batch_size=50):\n",
    "    print(f\"\\nGenerating subcategories for {category}...\")\n",
    "\n",
    "    mask = df[\"Category\"] == category\n",
    "    texts = df.loc[mask, \"Cleaned Text\"].tolist()\n",
    "\n",
    "    subcategories = []\n",
    "    for i in range(0, len(texts), batch_size):\n",
    "        batch = texts[i:i+batch_size]\n",
    "        print(f\"Processing {i} to {i+len(batch)}\")\n",
    "\n",
    "        for text in batch:\n",
    "            subcat = generate_subcategory(text, category, model, tokenizer)\n",
    "            subcategories.append(subcat)\n",
    "\n",
    "    df.loc[mask, \"Subcategory\"] = subcategories\n",
    "    return df\n",
    "\n"
   ]
  },
  {
   "cell_type": "code",
   "execution_count": 43,
   "id": "f8dda15f",
   "metadata": {},
   "outputs": [
    {
     "name": "stdout",
     "output_type": "stream",
     "text": [
      "Starting subcategory generation with FLAN-T5...\n",
      "\n",
      "Generating subcategories for business...\n",
      "Processing 0 to 50\n",
      "Processing 50 to 100\n",
      "Processing 100 to 150\n",
      "Processing 150 to 200\n",
      "Processing 200 to 250\n",
      "Processing 250 to 300\n",
      "Processing 300 to 350\n",
      "Processing 350 to 400\n",
      "Processing 400 to 450\n",
      "Processing 450 to 500\n",
      "Processing 500 to 510\n",
      "Completed business\n",
      "\n",
      "Generating subcategories for entertainment...\n",
      "Processing 0 to 50\n",
      "Processing 50 to 100\n",
      "Processing 100 to 150\n",
      "Processing 150 to 200\n",
      "Processing 200 to 250\n",
      "Processing 250 to 300\n",
      "Processing 300 to 350\n",
      "Processing 350 to 386\n",
      "Completed entertainment\n",
      "\n",
      "Generating subcategories for politics...\n",
      "Processing 0 to 50\n",
      "Processing 50 to 100\n",
      "Processing 100 to 150\n",
      "Processing 150 to 200\n",
      "Processing 200 to 250\n",
      "Processing 250 to 300\n",
      "Processing 300 to 350\n",
      "Processing 350 to 400\n",
      "Processing 400 to 417\n",
      "Completed politics\n",
      "\n",
      "Generating subcategories for sport...\n",
      "Processing 0 to 50\n",
      "Processing 50 to 100\n",
      "Processing 100 to 150\n",
      "Processing 150 to 200\n",
      "Processing 200 to 250\n",
      "Processing 250 to 300\n",
      "Processing 300 to 350\n",
      "Processing 350 to 400\n",
      "Processing 400 to 450\n",
      "Processing 450 to 500\n",
      "Processing 500 to 511\n",
      "Completed sport\n",
      "\n",
      "Generating subcategories for tech...\n",
      "Processing 0 to 50\n",
      "Processing 50 to 100\n",
      "Processing 100 to 150\n",
      "Processing 150 to 200\n",
      "Processing 200 to 250\n",
      "Processing 250 to 300\n",
      "Processing 300 to 350\n",
      "Processing 350 to 400\n",
      "Processing 400 to 401\n",
      "Completed tech\n"
     ]
    }
   ],
   "source": [
    "# Process each category with FLAN-T5\n",
    "print(\"Starting subcategory generation with FLAN-T5...\")\n",
    "for category in df[\"Category\"].unique():\n",
    "    df = run_llm_subcategory_model(df, category, model, tokenizer, batch_size=50)\n",
    "    print(f\"Completed {category}\")"
   ]
  },
  {
   "cell_type": "code",
   "execution_count": 39,
   "id": "b7568d38",
   "metadata": {},
   "outputs": [],
   "source": [
    "# Save results\n",
    "df.to_csv(\"bbc_with_subcategories.csv\", index=False)"
   ]
  },
  {
   "cell_type": "code",
   "execution_count": 40,
   "id": "4b48d458",
   "metadata": {},
   "outputs": [
    {
     "name": "stdout",
     "output_type": "stream",
     "text": [
      "CUDA available: True\n",
      "GPU name: NVIDIA GeForce RTX 4060 Laptop GPU\n",
      "CUDA version: 12.1\n"
     ]
    }
   ],
   "source": [
    "import torch\n",
    "print(\"CUDA available:\", torch.cuda.is_available())\n",
    "if torch.cuda.is_available():\n",
    "    print(\"GPU name:\", torch.cuda.get_device_name(0))\n",
    "    print(\"CUDA version:\", torch.version.cuda)\n",
    "\n"
   ]
  }
 ],
 "metadata": {
  "kernelspec": {
   "display_name": ".venv (3.11.9)",
   "language": "python",
   "name": "python3"
  },
  "language_info": {
   "codemirror_mode": {
    "name": "ipython",
    "version": 3
   },
   "file_extension": ".py",
   "mimetype": "text/x-python",
   "name": "python",
   "nbconvert_exporter": "python",
   "pygments_lexer": "ipython3",
   "version": "3.11.9"
  }
 },
 "nbformat": 4,
 "nbformat_minor": 5
}
