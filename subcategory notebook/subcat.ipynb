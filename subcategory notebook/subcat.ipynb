{
 "cells": [
  {
   "cell_type": "code",
   "execution_count": 1,
   "id": "c6b48189",
   "metadata": {},
   "outputs": [],
   "source": [
    "# Imports\n",
    "import os\n",
    "import warnings\n",
    "warnings.filterwarnings(\"ignore\")\n",
    "\n",
    "import pandas as pd\n",
    "import numpy as np\n",
    "\n",
    "from bertopic import BERTopic\n",
    "from bertopic.representation import KeyBERTInspired\n",
    "from sklearn.feature_extraction.text import CountVectorizer\n",
    "from umap import UMAP\n",
    "from hdbscan import HDBSCAN\n",
    "from top2vec import Top2Vec\n",
    "\n",
    "import torch\n",
    "from tqdm.auto import tqdm\n",
    "tqdm.pandas()\n"
   ]
  },
  {
   "cell_type": "markdown",
   "id": "663b24ba",
   "metadata": {},
   "source": [
    "load datasets separately"
   ]
  },
  {
   "cell_type": "code",
   "execution_count": 2,
   "id": "08a0d3fb",
   "metadata": {},
   "outputs": [
    {
     "data": {
      "application/vnd.microsoft.datawrangler.viewer.v0+json": {
       "columns": [
        {
         "name": "index",
         "rawType": "int64",
         "type": "integer"
        },
        {
         "name": "Category",
         "rawType": "object",
         "type": "string"
        },
        {
         "name": "Text",
         "rawType": "object",
         "type": "string"
        },
        {
         "name": "Filename",
         "rawType": "object",
         "type": "string"
        },
        {
         "name": "Subcategory",
         "rawType": "float64",
         "type": "float"
        }
       ],
       "ref": "178ad907-32f5-48bc-a257-70c6b5b7871a",
       "rows": [
        [
         "0",
         "tech",
         "Ink helps drive democracy in Asia\n\nThe Kyrgyz Republic, a small, mountainous state of the former Soviet republic, is using invisible ink and ultraviolet readers in the country's elections as part of a drive to prevent multiple voting.\n\nThis new technology is causing both worries and guarded optimism among different sectors of the population. In an effort to live up to its reputation in the 1990s as \"an island of democracy\", the Kyrgyz President, Askar Akaev, pushed through the law requiring the use of ink during the upcoming Parliamentary and Presidential elections. The US government agreed to fund all expenses associated with this decision.\n\nThe Kyrgyz Republic is seen by many experts as backsliding from the high point it reached in the mid-1990s with a hastily pushed through referendum in 2003, reducing the legislative branch to one chamber with 75 deputies. The use of ink is only one part of a general effort to show commitment towards more open elections - the German Embassy, the Soros Foundation and the Kyrgyz government have all contributed to purchase transparent ballot boxes.\n\nThe actual technology behind the ink is not that complicated. The ink is sprayed on a person's left thumb. It dries and is not visible under normal light.\n\nHowever, the presence of ultraviolet light (of the kind used to verify money) causes the ink to glow with a neon yellow light. At the entrance to each polling station, one election official will scan voter's fingers with UV lamp before allowing them to enter, and every voter will have his/her left thumb sprayed with ink before receiving the ballot. If the ink shows under the UV light the voter will not be allowed to enter the polling station. Likewise, any voter who refuses to be inked will not receive the ballot. These elections are assuming even greater significance because of two large factors - the upcoming parliamentary elections are a prelude to a potentially regime changing presidential election in the Autumn as well as the echo of recent elections in other former Soviet Republics, notably Ukraine and Georgia. The use of ink has been controversial - especially among groups perceived to be pro-government.\n\nWidely circulated articles compared the use of ink to the rural practice of marking sheep - a still common metaphor in this primarily agricultural society.\n\nThe author of one such article began a petition drive against the use of the ink. The greatest part of the opposition to ink has often been sheer ignorance. Local newspapers have carried stories that the ink is harmful, radioactive or even that the ultraviolet readers may cause health problems. Others, such as the aggressively middle of the road, Coalition of Non-governmental Organizations, have lauded the move as an important step forward. This type of ink has been used in many elections in the world, in countries as varied as Serbia, South Africa, Indonesia and Turkey. The other common type of ink in elections is indelible visible ink - but as the elections in Afghanistan showed, improper use of this type of ink can cause additional problems. The use of \"invisible\" ink is not without its own problems. In most elections, numerous rumors have spread about it.\n\nIn Serbia, for example, both Christian and Islamic leaders assured their populations that its use was not contrary to religion. Other rumours are associated with how to remove the ink - various soft drinks, solvents and cleaning products are put forward. However, in reality, the ink is very effective at getting under the cuticle of the thumb and difficult to wash off. The ink stays on the finger for at least 72 hours and for up to a week. The use of ink and readers by itself is not a panacea for election ills. The passage of the inking law is, nevertheless, a clear step forward towards free and fair elections.\" The country's widely watched parliamentary elections are scheduled for 27 February.\n\nDavid Mikosz works for the IFES, an international, non-profit organisation that supports the building of democratic societies.\n",
         "data/tech/001.txt",
         null
        ],
        [
         "1",
         "tech",
         "China net cafe culture crackdown\n\nChinese authorities closed 12,575 net cafes in the closing months of 2004, the country's government said.\n\nAccording to the official news agency most of the net cafes were closed down because they were operating illegally. Chinese net cafes operate under a set of strict guidelines and many of those most recently closed broke rules that limit how close they can be to schools. The move is the latest in a series of steps the Chinese government has taken to crack down on what it considers to be immoral net use.\n\nThe official Xinhua News Agency said the crackdown was carried out to create a \"safer environment for young people in China\". Rules introduced in 2002 demand that net cafes be at least 200 metres away from middle and elementary schools. The hours that children can use net cafes are also tightly regulated. China has long been worried that net cafes are an unhealthy influence on young people. The 12,575 cafes were shut in the three months from October to December. China also tries to dictate the types of computer games people can play to limit the amount of violence people are exposed to.\n\nNet cafes are hugely popular in China because the relatively high cost of computer hardware means that few people have PCs in their homes. This is not the first time that the Chinese government has moved against net cafes that are not operating within its strict guidelines. All the 100,000 or so net cafes in the country are required to use software that controls what websites users can see. Logs of sites people visit are also kept. Laws on net cafe opening hours and who can use them were introduced in 2002 following a fire at one cafe that killed 25 people. During the crackdown following the blaze authorities moved to clean up net cafes and demanded that all of them get permits to operate. In August 2004 Chinese authorities shut down 700 websites and arrested 224 people in a crackdown on net porn. At the same time it introduced new controls to block overseas sex sites. The Reporters Without Borders group said in a report that Chinese government technologies for e-mail interception and net censorship are among the most highly developed in the world.\n",
         "data/tech/002.txt",
         null
        ],
        [
         "2",
         "tech",
         "Microsoft seeking spyware trojan\n\nMicrosoft is investigating a trojan program that attempts to switch off the firm's anti-spyware software.\n\nThe spyware tool was only released by Microsoft in the last few weeks and has been downloaded by six million people. Stephen Toulouse, a security manager at Microsoft, said the malicious program was called Bankash-A Trojan and was being sent as an e-mail attachment. Microsoft said it did not believe the program was widespread and recommended users to use an anti-virus program. The program attempts to disable or delete Microsoft's anti-spyware tool and suppress warning messages given to users.\n\nIt may also try to steal online banking passwords or other personal information by tracking users' keystrokes.\n\nMicrosoft said in a statement it is investigating what it called a criminal attack on its software. Earlier this week, Microsoft said it would buy anti-virus software maker Sybari Software to improve its security in its Windows and e-mail software. Microsoft has said it plans to offer its own paid-for anti-virus software but it has not yet set a date for its release. The anti-spyware program being targeted is currently only in beta form and aims to help users find and remove spyware - programs which monitor internet use, causes advert pop-ups and slow a PC's performance.\n",
         "data/tech/003.txt",
         null
        ]
       ],
       "shape": {
        "columns": 4,
        "rows": 3
       }
      },
      "text/html": [
       "<div>\n",
       "<style scoped>\n",
       "    .dataframe tbody tr th:only-of-type {\n",
       "        vertical-align: middle;\n",
       "    }\n",
       "\n",
       "    .dataframe tbody tr th {\n",
       "        vertical-align: top;\n",
       "    }\n",
       "\n",
       "    .dataframe thead th {\n",
       "        text-align: right;\n",
       "    }\n",
       "</style>\n",
       "<table border=\"1\" class=\"dataframe\">\n",
       "  <thead>\n",
       "    <tr style=\"text-align: right;\">\n",
       "      <th></th>\n",
       "      <th>Category</th>\n",
       "      <th>Text</th>\n",
       "      <th>Filename</th>\n",
       "      <th>Subcategory</th>\n",
       "    </tr>\n",
       "  </thead>\n",
       "  <tbody>\n",
       "    <tr>\n",
       "      <th>0</th>\n",
       "      <td>tech</td>\n",
       "      <td>Ink helps drive democracy in Asia\\n\\nThe Kyrgy...</td>\n",
       "      <td>data/tech/001.txt</td>\n",
       "      <td>NaN</td>\n",
       "    </tr>\n",
       "    <tr>\n",
       "      <th>1</th>\n",
       "      <td>tech</td>\n",
       "      <td>China net cafe culture crackdown\\n\\nChinese au...</td>\n",
       "      <td>data/tech/002.txt</td>\n",
       "      <td>NaN</td>\n",
       "    </tr>\n",
       "    <tr>\n",
       "      <th>2</th>\n",
       "      <td>tech</td>\n",
       "      <td>Microsoft seeking spyware trojan\\n\\nMicrosoft ...</td>\n",
       "      <td>data/tech/003.txt</td>\n",
       "      <td>NaN</td>\n",
       "    </tr>\n",
       "  </tbody>\n",
       "</table>\n",
       "</div>"
      ],
      "text/plain": [
       "  Category                                               Text  \\\n",
       "0     tech  Ink helps drive democracy in Asia\\n\\nThe Kyrgy...   \n",
       "1     tech  China net cafe culture crackdown\\n\\nChinese au...   \n",
       "2     tech  Microsoft seeking spyware trojan\\n\\nMicrosoft ...   \n",
       "\n",
       "            Filename  Subcategory  \n",
       "0  data/tech/001.txt          NaN  \n",
       "1  data/tech/002.txt          NaN  \n",
       "2  data/tech/003.txt          NaN  "
      ]
     },
     "execution_count": 2,
     "metadata": {},
     "output_type": "execute_result"
    }
   ],
   "source": [
    "business_df = pd.read_csv('../data/business/business.csv')\n",
    "entertainment_df = pd.read_csv('../data/entertainment/entertainment.csv')\n",
    "politics_df = pd.read_csv('../data/politics/politics.csv')\n",
    "sport_df = pd.read_csv('../data/sport/sport.csv')\n",
    "tech_df = pd.read_csv('../data/tech/tech.csv')\n",
    "\n",
    "# check head of each df\n",
    "business_df.head(3)\n",
    "entertainment_df.head(3)\n",
    "politics_df.head(3)\n",
    "sport_df.head(3)\n",
    "tech_df.head(3)"
   ]
  },
  {
   "cell_type": "code",
   "execution_count": 3,
   "id": "df358ca9",
   "metadata": {},
   "outputs": [],
   "source": [
    "import spacy\n",
    "import re\n",
    "nlp = spacy.load('en_core_web_sm')"
   ]
  },
  {
   "cell_type": "markdown",
   "id": "28e90a7a",
   "metadata": {},
   "source": [
    "Get ready to clean text data"
   ]
  },
  {
   "cell_type": "code",
   "execution_count": 4,
   "id": "fa495c11",
   "metadata": {},
   "outputs": [
    {
     "name": "stdout",
     "output_type": "stream",
     "text": [
      "Original text: Ink helps drive democracy in Asia\n",
      "The Kyrgyz Republic, a small, mountainous state of the former Soviet republic, is using invisible ink and ultraviolet readers in the country's elections as part of a drive to prevent multiple voting.\n",
      "\n",
      "Cleaned text: ink help drive democracy in asia the kyrgyz republic a small mountainous state of the former soviet republic be use invisible ink and ultraviolet reader in the country 's election as part of a drive to prevent multiple voting\n"
     ]
    }
   ],
   "source": [
    "# define data cleaning function\n",
    "def clean_text(text):\n",
    "    # remove extra whitesace\n",
    "    text = re.sub(r'\\s+', ' ', text).strip()\n",
    "    # lemmatize\n",
    "    doc = nlp(text)\n",
    "    return ' '.join([token.lemma_.lower() for token in doc if not token.is_punct])\n",
    "# quick test on small sample\n",
    "original_text = \"\"\"Ink helps drive democracy in Asia\n",
    "The Kyrgyz Republic, a small, mountainous state of the former Soviet republic, is using invisible ink and ultraviolet readers in the country's elections as part of a drive to prevent multiple voting.\n",
    "\"\"\"\n",
    "cleaned_text = clean_text(original_text)\n",
    "print(f\"Original text: {original_text}\")\n",
    "print(f\"Cleaned text: {cleaned_text}\")\n"
   ]
  },
  {
   "cell_type": "code",
   "execution_count": null,
   "id": "eadcabc8",
   "metadata": {},
   "outputs": [],
   "source": [
    "# apply data cleaning function to each df\n",
    "business_df[\"CleanText\"] = business_df[\"Text\"].apply(clean_text)\n",
    "entertainment_df[\"CleanText\"] = entertainment_df[\"Text\"].apply(clean_text)\n",
    "politics_df[\"CleanText\"] = politics_df[\"Text\"].apply(clean_text)\n",
    "sport_df[\"CleanText\"] = sport_df[\"Text\"].apply(clean_text)\n",
    "tech_df[\"CleanText\"] = tech_df[\"Text\"].apply(clean_text)\n",
    "\n",
    "# check head \n",
    "business_df.head(3)"
   ]
  }
 ],
 "metadata": {
  "kernelspec": {
   "display_name": ".venv (3.11.9)",
   "language": "python",
   "name": "python3"
  },
  "language_info": {
   "codemirror_mode": {
    "name": "ipython",
    "version": 3
   },
   "file_extension": ".py",
   "mimetype": "text/x-python",
   "name": "python",
   "nbconvert_exporter": "python",
   "pygments_lexer": "ipython3",
   "version": "3.11.9"
  }
 },
 "nbformat": 4,
 "nbformat_minor": 5
}
